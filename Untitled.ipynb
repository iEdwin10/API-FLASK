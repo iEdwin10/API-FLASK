{
 "cells": [
  {
   "cell_type": "markdown",
   "id": "c15157cf-addf-4f9d-9c5c-8adc2ad15e9e",
   "metadata": {},
   "source": [
    "# Mon 1er Notebook"
   ]
  },
  {
   "cell_type": "code",
   "execution_count": 11,
   "id": "a7d33b34-d060-4299-a2b8-d5c43d786269",
   "metadata": {},
   "outputs": [
    {
     "name": "stdout",
     "output_type": "stream",
     "text": [
      "Hello World!\n"
     ]
    }
   ],
   "source": [
    "print(\"Hello World!\")"
   ]
  },
  {
   "cell_type": "code",
   "execution_count": 8,
   "id": "6e72a824-7902-4be1-a384-470bb3e7ed1b",
   "metadata": {},
   "outputs": [],
   "source": [
    "import pandas as pd"
   ]
  },
  {
   "cell_type": "code",
   "execution_count": 15,
   "id": "4a84f0b3-aa16-43ba-9cad-99eca27ec903",
   "metadata": {},
   "outputs": [
    {
     "ename": "SyntaxError",
     "evalue": "invalid syntax (1888949819.py, line 1)",
     "output_type": "error",
     "traceback": [
      "\u001b[0;36m  Cell \u001b[0;32mIn[15], line 1\u001b[0;36m\u001b[0m\n\u001b[0;31m    data = pd.read_csv(/Users/edwinzami/Documents/GitHub/API-FLASK/dataset.csv)\u001b[0m\n\u001b[0m                       ^\u001b[0m\n\u001b[0;31mSyntaxError\u001b[0m\u001b[0;31m:\u001b[0m invalid syntax\n"
     ]
    }
   ],
   "source": [
    "data = pd.read_csv(/Users/edwinzami/Documents/GitHub/API-FLASK/dataset.csv)"
   ]
  },
  {
   "cell_type": "code",
   "execution_count": null,
   "id": "90994b54-9007-4880-b27e-e86735c40adb",
   "metadata": {},
   "outputs": [],
   "source": []
  }
 ],
 "metadata": {
  "kernelspec": {
   "display_name": "Python 3 (ipykernel)",
   "language": "python",
   "name": "python3"
  },
  "language_info": {
   "codemirror_mode": {
    "name": "ipython",
    "version": 3
   },
   "file_extension": ".py",
   "mimetype": "text/x-python",
   "name": "python",
   "nbconvert_exporter": "python",
   "pygments_lexer": "ipython3",
   "version": "3.12.3"
  }
 },
 "nbformat": 4,
 "nbformat_minor": 5
}
