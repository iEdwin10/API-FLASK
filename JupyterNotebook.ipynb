{
 "cells": [
  {
   "cell_type": "markdown",
   "id": "c15157cf-addf-4f9d-9c5c-8adc2ad15e9e",
   "metadata": {},
   "source": [
    "# Mon 1er Notebook"
   ]
  },
  {
   "cell_type": "code",
   "execution_count": 11,
   "id": "a7d33b34-d060-4299-a2b8-d5c43d786269",
   "metadata": {},
   "outputs": [
    {
     "name": "stdout",
     "output_type": "stream",
     "text": [
      "Hello World!\n"
     ]
    }
   ],
   "source": [
    "print(\"Hello World!\")"
   ]
  },
  {
   "cell_type": "code",
   "execution_count": 8,
   "id": "6e72a824-7902-4be1-a384-470bb3e7ed1b",
   "metadata": {},
   "outputs": [],
   "source": [
    "import pandas as pd"
   ]
  },
  {
   "cell_type": "code",
   "execution_count": 28,
   "id": "70a742da-0995-4b35-880e-6861d15e752f",
   "metadata": {},
   "outputs": [],
   "source": [
    "import matplotlib.pyplot as plt"
   ]
  },
  {
   "cell_type": "code",
   "execution_count": 18,
   "id": "4a84f0b3-aa16-43ba-9cad-99eca27ec903",
   "metadata": {},
   "outputs": [],
   "source": [
    "data = pd.read_csv(\"/Users/edwinzami/Documents/GitHub/API-FLASK/dataset.csv\")"
   ]
  },
  {
   "cell_type": "code",
   "execution_count": 19,
   "id": "90994b54-9007-4880-b27e-e86735c40adb",
   "metadata": {},
   "outputs": [
    {
     "data": {
      "text/html": [
       "<div>\n",
       "<style scoped>\n",
       "    .dataframe tbody tr th:only-of-type {\n",
       "        vertical-align: middle;\n",
       "    }\n",
       "\n",
       "    .dataframe tbody tr th {\n",
       "        vertical-align: top;\n",
       "    }\n",
       "\n",
       "    .dataframe thead th {\n",
       "        text-align: right;\n",
       "    }\n",
       "</style>\n",
       "<table border=\"1\" class=\"dataframe\">\n",
       "  <thead>\n",
       "    <tr style=\"text-align: right;\">\n",
       "      <th></th>\n",
       "      <th>FacilityID</th>\n",
       "      <th>URL</th>\n",
       "      <th>Name</th>\n",
       "      <th>FacilityType</th>\n",
       "      <th>Address1</th>\n",
       "      <th>Town</th>\n",
       "      <th>State</th>\n",
       "      <th>AddressNote</th>\n",
       "      <th>Latitude</th>\n",
       "      <th>Longitude</th>\n",
       "      <th>...</th>\n",
       "      <th>Ambulant</th>\n",
       "      <th>Accessible</th>\n",
       "      <th>LHTransfer</th>\n",
       "      <th>RHTransfer</th>\n",
       "      <th>ToiletNote</th>\n",
       "      <th>SharpsDisposal</th>\n",
       "      <th>DrinkingWater</th>\n",
       "      <th>SanitaryDisposal</th>\n",
       "      <th>MensPadDisposal</th>\n",
       "      <th>Shower</th>\n",
       "    </tr>\n",
       "  </thead>\n",
       "  <tbody>\n",
       "    <tr>\n",
       "      <th>0</th>\n",
       "      <td>1</td>\n",
       "      <td>https://toiletmap.gov.au/facility/1</td>\n",
       "      <td>Sandy Beach Reserve</td>\n",
       "      <td>Park or reserve</td>\n",
       "      <td>Lost 15525, West Road</td>\n",
       "      <td>Bassendean</td>\n",
       "      <td>WA</td>\n",
       "      <td>NaN</td>\n",
       "      <td>-31.921836</td>\n",
       "      <td>115.950206</td>\n",
       "      <td>...</td>\n",
       "      <td>False</td>\n",
       "      <td>True</td>\n",
       "      <td>False</td>\n",
       "      <td>False</td>\n",
       "      <td>NaN</td>\n",
       "      <td>True</td>\n",
       "      <td>True</td>\n",
       "      <td>True</td>\n",
       "      <td>False</td>\n",
       "      <td>False</td>\n",
       "    </tr>\n",
       "    <tr>\n",
       "      <th>1</th>\n",
       "      <td>2</td>\n",
       "      <td>https://toiletmap.gov.au/facility/2</td>\n",
       "      <td>Point Reserve</td>\n",
       "      <td>Park or reserve</td>\n",
       "      <td>Lot 197, North Road</td>\n",
       "      <td>Bassendean</td>\n",
       "      <td>WA</td>\n",
       "      <td>NaN</td>\n",
       "      <td>-31.904410</td>\n",
       "      <td>115.960991</td>\n",
       "      <td>...</td>\n",
       "      <td>False</td>\n",
       "      <td>True</td>\n",
       "      <td>False</td>\n",
       "      <td>False</td>\n",
       "      <td>NaN</td>\n",
       "      <td>True</td>\n",
       "      <td>True</td>\n",
       "      <td>True</td>\n",
       "      <td>False</td>\n",
       "      <td>False</td>\n",
       "    </tr>\n",
       "    <tr>\n",
       "      <th>2</th>\n",
       "      <td>3</td>\n",
       "      <td>https://toiletmap.gov.au/facility/3</td>\n",
       "      <td>Success Hill Reserve</td>\n",
       "      <td>Park or reserve</td>\n",
       "      <td>Lot 2838, Seventh Avenue</td>\n",
       "      <td>Bassendean</td>\n",
       "      <td>WA</td>\n",
       "      <td>NaN</td>\n",
       "      <td>-31.896289</td>\n",
       "      <td>115.955781</td>\n",
       "      <td>...</td>\n",
       "      <td>False</td>\n",
       "      <td>True</td>\n",
       "      <td>False</td>\n",
       "      <td>False</td>\n",
       "      <td>NaN</td>\n",
       "      <td>True</td>\n",
       "      <td>True</td>\n",
       "      <td>True</td>\n",
       "      <td>False</td>\n",
       "      <td>True</td>\n",
       "    </tr>\n",
       "    <tr>\n",
       "      <th>3</th>\n",
       "      <td>4</td>\n",
       "      <td>https://toiletmap.gov.au/facility/4</td>\n",
       "      <td>Jubilee Reserve</td>\n",
       "      <td>Park or reserve</td>\n",
       "      <td>Lot 6322, Robinson Road</td>\n",
       "      <td>Eden Hill</td>\n",
       "      <td>WA</td>\n",
       "      <td>NaN</td>\n",
       "      <td>-31.891474</td>\n",
       "      <td>115.940164</td>\n",
       "      <td>...</td>\n",
       "      <td>False</td>\n",
       "      <td>False</td>\n",
       "      <td>False</td>\n",
       "      <td>False</td>\n",
       "      <td>NaN</td>\n",
       "      <td>True</td>\n",
       "      <td>False</td>\n",
       "      <td>True</td>\n",
       "      <td>False</td>\n",
       "      <td>False</td>\n",
       "    </tr>\n",
       "    <tr>\n",
       "      <th>4</th>\n",
       "      <td>5</td>\n",
       "      <td>https://toiletmap.gov.au/facility/5</td>\n",
       "      <td>Ashfield Reserve</td>\n",
       "      <td>Park or reserve</td>\n",
       "      <td>Lot 12061, 2 Coulston Road</td>\n",
       "      <td>Ashfield</td>\n",
       "      <td>WA</td>\n",
       "      <td>NaN</td>\n",
       "      <td>-31.913433</td>\n",
       "      <td>115.936477</td>\n",
       "      <td>...</td>\n",
       "      <td>False</td>\n",
       "      <td>True</td>\n",
       "      <td>False</td>\n",
       "      <td>False</td>\n",
       "      <td>NaN</td>\n",
       "      <td>True</td>\n",
       "      <td>True</td>\n",
       "      <td>True</td>\n",
       "      <td>False</td>\n",
       "      <td>False</td>\n",
       "    </tr>\n",
       "  </tbody>\n",
       "</table>\n",
       "<p>5 rows × 47 columns</p>\n",
       "</div>"
      ],
      "text/plain": [
       "   FacilityID                                  URL                  Name  \\\n",
       "0           1  https://toiletmap.gov.au/facility/1   Sandy Beach Reserve   \n",
       "1           2  https://toiletmap.gov.au/facility/2         Point Reserve   \n",
       "2           3  https://toiletmap.gov.au/facility/3  Success Hill Reserve   \n",
       "3           4  https://toiletmap.gov.au/facility/4       Jubilee Reserve   \n",
       "4           5  https://toiletmap.gov.au/facility/5      Ashfield Reserve   \n",
       "\n",
       "      FacilityType                    Address1        Town State AddressNote  \\\n",
       "0  Park or reserve       Lost 15525, West Road  Bassendean    WA         NaN   \n",
       "1  Park or reserve         Lot 197, North Road  Bassendean    WA         NaN   \n",
       "2  Park or reserve    Lot 2838, Seventh Avenue  Bassendean    WA         NaN   \n",
       "3  Park or reserve     Lot 6322, Robinson Road   Eden Hill    WA         NaN   \n",
       "4  Park or reserve  Lot 12061, 2 Coulston Road    Ashfield    WA         NaN   \n",
       "\n",
       "    Latitude   Longitude  ...  Ambulant  Accessible LHTransfer  RHTransfer  \\\n",
       "0 -31.921836  115.950206  ...     False        True      False       False   \n",
       "1 -31.904410  115.960991  ...     False        True      False       False   \n",
       "2 -31.896289  115.955781  ...     False        True      False       False   \n",
       "3 -31.891474  115.940164  ...     False       False      False       False   \n",
       "4 -31.913433  115.936477  ...     False        True      False       False   \n",
       "\n",
       "   ToiletNote  SharpsDisposal  DrinkingWater SanitaryDisposal  \\\n",
       "0         NaN            True           True             True   \n",
       "1         NaN            True           True             True   \n",
       "2         NaN            True           True             True   \n",
       "3         NaN            True          False             True   \n",
       "4         NaN            True           True             True   \n",
       "\n",
       "   MensPadDisposal  Shower  \n",
       "0            False   False  \n",
       "1            False   False  \n",
       "2            False    True  \n",
       "3            False   False  \n",
       "4            False   False  \n",
       "\n",
       "[5 rows x 47 columns]"
      ]
     },
     "execution_count": 19,
     "metadata": {},
     "output_type": "execute_result"
    }
   ],
   "source": [
    "data.head()"
   ]
  },
  {
   "cell_type": "code",
   "execution_count": 21,
   "id": "e51739cc-f1f7-4543-971e-f07a26b937d7",
   "metadata": {},
   "outputs": [
    {
     "data": {
      "text/plain": [
       "0        Park or reserve\n",
       "1        Park or reserve\n",
       "2        Park or reserve\n",
       "3        Park or reserve\n",
       "4        Park or reserve\n",
       "              ...       \n",
       "23658    Park or reserve\n",
       "23659          Rest area\n",
       "23660    Shopping centre\n",
       "23661    Shopping centre\n",
       "23662    Shopping centre\n",
       "Name: FacilityType, Length: 23663, dtype: object"
      ]
     },
     "execution_count": 21,
     "metadata": {},
     "output_type": "execute_result"
    }
   ],
   "source": [
    "data[\"FacilityType\"]"
   ]
  },
  {
   "cell_type": "code",
   "execution_count": 32,
   "id": "cf347e93-68de-4b1e-814a-1adc2ea102d3",
   "metadata": {},
   "outputs": [],
   "source": [
    "data_viz = data[\"FacilityType\"].value_counts()"
   ]
  },
  {
   "cell_type": "code",
   "execution_count": 53,
   "id": "5c8d887d-ff9d-4448-911c-c8771694d8cf",
   "metadata": {},
   "outputs": [
    {
     "data": {
      "text/plain": [
       "Text(0, 0.5, 'Value')"
      ]
     },
     "execution_count": 53,
     "metadata": {},
     "output_type": "execute_result"
    },
    {
     "data": {
      "image/png": "[encoded data removed]",
      "text/plain": [
       "<Figure size 640x480 with 1 Axes>"
      ]
     },
     "metadata": {},
     "output_type": "display_data"
    }
   ],
   "source": [
    "data_viz.plot(kind=\"bar\")\n",
    "plt.title(\"Toilette Australie\")\n",
    "plt.xlabel(\"Location\")\n",
    "plt.ylabel(\"Value\")"
   ]
  },
  {
   "cell_type": "code",
   "execution_count": null,
   "id": "a4652d11-1f26-4284-b21e-e953040a8162",
   "metadata": {},
   "outputs": [],
   "source": []
  },
  {
   "cell_type": "code",
   "execution_count": null,
   "id": "e0f5dab1-baa7-49fe-916e-4d53d02905f3",
   "metadata": {},
   "outputs": [],
   "source": []
  }
 ],
 "metadata": {
  "kernelspec": {
   "display_name": "Python 3 (ipykernel)",
   "language": "python",
   "name": "python3"
  },
  "language_info": {
   "codemirror_mode": {
    "name": "ipython",
    "version": 3
   },
   "file_extension": ".py",
   "mimetype": "text/x-python",
   "name": "python",
   "nbconvert_exporter": "python",
   "pygments_lexer": "ipython3",
   "version": "3.12.3"
  }
 },
 "nbformat": 4,
 "nbformat_minor": 5
}
